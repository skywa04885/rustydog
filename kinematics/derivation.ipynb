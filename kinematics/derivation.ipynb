{
 "cells": [
  {
   "cell_type": "code",
   "execution_count": 2,
   "id": "1a84a2b3-b03a-46b7-92dc-22278b907936",
   "metadata": {
    "ExecuteTime": {
     "end_time": "2024-04-03T13:39:21.515777Z",
     "start_time": "2024-04-03T13:39:21.236914Z"
    }
   },
   "outputs": [],
   "source": [
    "import sympy"
   ]
  },
  {
   "cell_type": "code",
   "execution_count": 3,
   "id": "29076fa5-6cd6-4006-ac17-134b687df50e",
   "metadata": {
    "ExecuteTime": {
     "end_time": "2024-04-03T13:39:21.573350Z",
     "start_time": "2024-04-03T13:39:21.565745Z"
    }
   },
   "outputs": [],
   "source": [
    "# Create the symbols for the link angles.\n",
    "\n",
    "th0, th1, th2, th3, th4 = sympy.symbols('theta_0, theta_1, theta_2, theta_3, theta_4')\n",
    "\n",
    "# Create the symbols for the joint lengths.\n",
    "\n",
    "le0, le1, le2, le3, le4 = sympy.symbols('l_0, l_1, l_2, l_3, l_4')"
   ]
  },
  {
   "cell_type": "code",
   "outputs": [],
   "source": [
    "# Create the rotation matrices for the joints.\n",
    "\n",
    "R_0 = sympy.eye(4)\n",
    "R_0[0:3, 0:3] = sympy.rot_axis2(th0)\n",
    "\n",
    "R_1 = sympy.eye(4)\n",
    "R_1[0:3, 0:3] = sympy.rot_axis1(th1)\n",
    "\n",
    "R_2 = sympy.eye(4)\n",
    "R_2[0:3, 0:3] = sympy.rot_axis1(th2)\n",
    "\n",
    "R_3 = sympy.eye(4)\n",
    "R_3[0:3, 0:3] = sympy.rot_axis1(th3)\n",
    "\n",
    "R_4 = sympy.eye(4)\n",
    "R_4[0:3, 0:3] = sympy.rot_axis2(th4)\n",
    "\n",
    "# Create the translation matrices for the links.\n",
    "\n",
    "T_0 = sympy.eye(4)\n",
    "T_0[1, 3] = le0\n",
    "\n",
    "T_1 = sympy.eye(4)\n",
    "T_1[1, 3] = le1\n",
    "\n",
    "T_2 = sympy.eye(4)\n",
    "T_2[1, 3] = le2\n",
    "\n",
    "T_3 = sympy.eye(4)\n",
    "T_3[1, 3] = le3\n",
    "\n",
    "T_4 = sympy.eye(4)\n",
    "T_4[1, 3] = le4"
   ],
   "metadata": {
    "collapsed": false,
    "ExecuteTime": {
     "end_time": "2024-04-03T13:39:21.650352Z",
     "start_time": "2024-04-03T13:39:21.611966Z"
    }
   },
   "id": "45c691e1151ead38",
   "execution_count": 4
  },
  {
   "cell_type": "code",
   "outputs": [],
   "source": [
    "# Create the affine matrices for the limbs.\n",
    "\n",
    "L_0 = R_0 * T_0\n",
    "L_1 = R_1 * T_1\n",
    "L_2 = R_2 * T_2\n",
    "L_3 = R_3 * T_3\n",
    "L_4 = R_4 * T_4"
   ],
   "metadata": {
    "collapsed": false,
    "ExecuteTime": {
     "end_time": "2024-04-03T13:39:21.800772Z",
     "start_time": "2024-04-03T13:39:21.785724Z"
    }
   },
   "id": "e709462fb6251c5a",
   "execution_count": 5
  },
  {
   "cell_type": "code",
   "outputs": [],
   "source": [
    "# Create the affine matrices for the limbs.\n",
    "\n",
    "A_0 = L_0\n",
    "A_1 = A_0 * L_1\n",
    "A_2 = A_1 * L_2\n",
    "A_3 = A_2 * L_3\n",
    "A_4 = A_3 * L_4"
   ],
   "metadata": {
    "collapsed": false,
    "ExecuteTime": {
     "end_time": "2024-04-03T13:39:21.985719Z",
     "start_time": "2024-04-03T13:39:21.899956Z"
    }
   },
   "id": "32c81df8ebec70bb",
   "execution_count": 6
  },
  {
   "cell_type": "code",
   "outputs": [],
   "source": [
    "# Get the position and orientation matrices for the libs.\n",
    "\n",
    "P_0 = sympy.simplify(A_0[0:3, 3])\n",
    "P_1 = sympy.simplify(A_1[0:3, 3])\n",
    "P_2 = sympy.simplify(A_2[0:3, 3])\n",
    "P_3 = sympy.simplify(A_3[0:3, 3])\n",
    "P_4 = sympy.simplify(A_4[0:3, 3])\n",
    "\n",
    "O_0 = sympy.simplify(A_0[0:3, 0:3])\n",
    "O_1 = sympy.simplify(A_1[0:3, 0:3])\n",
    "O_2 = sympy.simplify(A_2[0:3, 0:3])\n",
    "O_3 = sympy.simplify(A_3[0:3, 0:3])\n",
    "O_4 = sympy.simplify(A_4[0:3, 0:3])"
   ],
   "metadata": {
    "collapsed": false,
    "ExecuteTime": {
     "end_time": "2024-04-03T13:39:30.259617Z",
     "start_time": "2024-04-03T13:39:22.068835Z"
    }
   },
   "id": "eab04544dfdaa66",
   "execution_count": 7
  },
  {
   "cell_type": "code",
   "outputs": [
    {
     "data": {
      "text/plain": "(3, 5)"
     },
     "execution_count": 9,
     "metadata": {},
     "output_type": "execute_result"
    }
   ],
   "source": [
    "# Get the Jacobi matrix of the end-effector with respect to its angles.\n",
    "\n",
    "J = sympy.simplify(P_4.jacobian([th0, th1, th2, th3, th4]))\n",
    "J.shape"
   ],
   "metadata": {
    "collapsed": false,
    "ExecuteTime": {
     "end_time": "2024-04-03T13:40:20.452979Z",
     "start_time": "2024-04-03T13:40:17.374043Z"
    }
   },
   "id": "de31720bd18a0a4a",
   "execution_count": 9
  },
  {
   "cell_type": "code",
   "outputs": [],
   "source": [
    "# We cannot compute it's inverse."
   ],
   "metadata": {
    "collapsed": false,
    "ExecuteTime": {
     "end_time": "2024-04-03T13:39:33.380917Z",
     "start_time": "2024-04-03T13:39:33.380804Z"
    }
   },
   "id": "acea8b05e470b048",
   "execution_count": null
  },
  {
   "cell_type": "code",
   "outputs": [],
   "source": [
    "# Compute the vector containing the euler angles of the end-effector of the fifth limb.\n",
    "E = sympy.Matrix([\n",
    "    sympy.atan2(O_4[1, 0], O_4[0, 0]), \n",
    "    sympy.atan2(-O_4[2, 0], sympy.sqrt(O_4[2, 1] ** 2, O_4[2, 2] ** 2)),\n",
    "    sympy.atan2(O_4[2,1], O_4[2,2])\n",
    "])"
   ],
   "metadata": {
    "collapsed": false
   },
   "id": "a271fd48c36577f2",
   "execution_count": null
  },
  {
   "cell_type": "code",
   "outputs": [],
   "source": [
    "# Take the Jacobi matrix of the euler angle vector.\n",
    "J_E = sympy.simplify(E.jacobian([th0, th1, th2, th3, th4]))"
   ],
   "metadata": {
    "collapsed": false
   },
   "id": "4ecbf2ace8459fc6",
   "execution_count": null
  },
  {
   "cell_type": "code",
   "outputs": [],
   "source": [
    "# Helper to generate the rust code for a matrix (also works for vectors btw).\n",
    "def rust_code_matrix(m: sympy.Matrix):\n",
    "    result: str = ''\n",
    "    \n",
    "    for row in range(0, m.rows):\n",
    "        vec: sympy.Matrix = m[row, :].transpose()\n",
    "        \n",
    "        result += sympy.rust_code(vec)[1:-1]\n",
    "        \n",
    "        \n",
    "        if row + 1 < m.rows:\n",
    "            result += ','\n",
    "    \n",
    "    return result"
   ],
   "metadata": {
    "collapsed": false
   },
   "id": "e613686b5092ef8d",
   "execution_count": null
  },
  {
   "cell_type": "markdown",
   "source": [
    "# Position vector code generation"
   ],
   "metadata": {
    "collapsed": false
   },
   "id": "995b8b86570f0cf5"
  },
  {
   "cell_type": "code",
   "outputs": [],
   "source": [
    "# Rust code for the end-effector of the first limb.\n",
    "print(rust_code_matrix(P_0))"
   ],
   "metadata": {
    "collapsed": false
   },
   "id": "dea514f3fce362ec",
   "execution_count": null
  },
  {
   "cell_type": "code",
   "outputs": [],
   "source": [
    "# Rust code for the end-effector of the second limb.\n",
    "print(rust_code_matrix(P_1))"
   ],
   "metadata": {
    "collapsed": false
   },
   "id": "a3dabcc0518f80b0",
   "execution_count": null
  },
  {
   "cell_type": "code",
   "outputs": [],
   "source": [
    "# Rust code for the end-effector of the third limb.\n",
    "print(rust_code_matrix(P_2))"
   ],
   "metadata": {
    "collapsed": false
   },
   "id": "1553cb8f9d32ac22",
   "execution_count": null
  },
  {
   "cell_type": "code",
   "outputs": [],
   "source": [
    "# Rust code for the end-effector of the fourth limb.\n",
    "print(rust_code_matrix(P_3))"
   ],
   "metadata": {
    "collapsed": false
   },
   "id": "4c3e0871c96bef2c",
   "execution_count": null
  },
  {
   "cell_type": "code",
   "outputs": [],
   "source": [
    "# Rust code for the end-effector of the fifth limb.\n",
    "print(rust_code_matrix(P_4))"
   ],
   "metadata": {
    "collapsed": false
   },
   "id": "f39bcc5b74386339",
   "execution_count": null
  },
  {
   "cell_type": "markdown",
   "source": [
    "# Orientation code generation"
   ],
   "metadata": {
    "collapsed": false
   },
   "id": "6479a2be7c581288"
  },
  {
   "cell_type": "code",
   "outputs": [],
   "source": [
    "# Rust code for the end-effector orientation of the fifth limb.\n",
    "print(rust_code_matrix(O_4))"
   ],
   "metadata": {
    "collapsed": false
   },
   "id": "88c0a74546294b5f",
   "execution_count": null
  },
  {
   "cell_type": "markdown",
   "source": [
    "# Jacobian code generation"
   ],
   "metadata": {
    "collapsed": false
   },
   "id": "a028c378516300cc"
  },
  {
   "cell_type": "code",
   "outputs": [],
   "source": [
    "# Rust code for the Jacobi matrix of the end-effector of the fifth limb.\n",
    "print(rust_code_matrix(J))"
   ],
   "metadata": {
    "collapsed": false
   },
   "id": "4a21a9cb5e5f6fcf",
   "execution_count": null
  },
  {
   "cell_type": "code",
   "outputs": [],
   "source": [
    "# Generate the rust code for the Jacobi matrix of the end effector angles.\n",
    "print(rust_code_matrix(J_E))"
   ],
   "metadata": {
    "collapsed": false
   },
   "id": "9cea2b6e7770e4a",
   "execution_count": null
  }
 ],
 "metadata": {
  "kernelspec": {
   "display_name": "Python 3 (ipykernel)",
   "language": "python",
   "name": "python3"
  },
  "language_info": {
   "codemirror_mode": {
    "name": "ipython",
    "version": 3
   },
   "file_extension": ".py",
   "mimetype": "text/x-python",
   "name": "python",
   "nbconvert_exporter": "python",
   "pygments_lexer": "ipython3",
   "version": "3.11.8"
  }
 },
 "nbformat": 4,
 "nbformat_minor": 5
}
